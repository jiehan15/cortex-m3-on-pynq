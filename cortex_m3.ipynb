{
 "cells": [
  {
   "cell_type": "markdown",
   "id": "cc019d5b",
   "metadata": {},
   "source": [
    "# Cortex - M3 Example"
   ]
  },
  {
   "cell_type": "code",
   "execution_count": 1,
   "id": "dd1afd48",
   "metadata": {},
   "outputs": [],
   "source": [
    "from pynq import Overlay\n",
    "import time \n",
    "\n",
    "class M3Wrapper:\n",
    "    # constant\n",
    "    __M3_BITSTREAM_PATH: str = './m3.bit'\n",
    "    __M3_EXECUTABLE_BIN_PATH: str = './m3.bin'\n",
    "    \n",
    "    __M3_EXTERNAL_DATA_START_ADDR = 0x20100000\n",
    "    \n",
    "    def __init__(self):\n",
    "        self.overlay = Overlay(self.__M3_BITSTREAM_PATH)\n",
    "\n",
    "    def reset(self):\n",
    "        self.overlay.axi_pl_soft_reset.write(0x0, 0)\n",
    "\n",
    "    def release(self):\n",
    "        self.overlay.axi_pl_soft_reset.write(0x0, 1)\n",
    "\n",
    "    def load_bin_to_m3(self, bin_file: str = str(), verbose: bool = False):\n",
    "        if bin_file:\n",
    "            bin_file_path = binfile\n",
    "        else:\n",
    "            bin_file_path = self.__M3_EXECUTABLE_BIN_PATH\n",
    "        \n",
    "        bin_code = open(bin_file_path, 'rb')\n",
    "\n",
    "        addr = 0x0\n",
    "        while True:\n",
    "            word = bin_code.read(4)\n",
    "\n",
    "            if not word:\n",
    "                break\n",
    "            else:\n",
    "                self.overlay.axi_bram_ps_code.write(addr, word)\n",
    "                addr += 4\n",
    "\n",
    "        bin_code.close()\n",
    "        \n",
    "        if verbose:\n",
    "            print(f'Words wrote are {addr-4}')\n",
    "    \n",
    "    def run_for_seconds(self, reset_time: float):\n",
    "        self.release() # release M3\n",
    "        time.sleep(reset_time)\n",
    "        self.reset() # reset M3\n",
    "    \n",
    "    \n",
    "    def dump_external_sram_non_zero(self):\n",
    "        \n",
    "        high_idx = self.overlay.axi_bram_ps_data.size\n",
    "\n",
    "        idx = 0\n",
    "        while (idx < high_idx):\n",
    "            data = m3.overlay.axi_bram_ps_data.read(idx)\n",
    "\n",
    "            if data:\n",
    "                print(f'addr:0x{idx+self.__M3_EXTERNAL_DATA_START_ADDR:08x}, value: 0x{data:08x}')\n",
    "\n",
    "            idx += 4"
   ]
  },
  {
   "cell_type": "code",
   "execution_count": 2,
   "id": "e3662469",
   "metadata": {},
   "outputs": [
    {
     "data": {
      "application/javascript": [
       "\n",
       "try {\n",
       "require(['notebook/js/codecell'], function(codecell) {\n",
       "  codecell.CodeCell.options_default.highlight_modes[\n",
       "      'magic_text/x-csrc'] = {'reg':[/^%%microblaze/]};\n",
       "  Jupyter.notebook.events.one('kernel_ready.Kernel', function(){\n",
       "      Jupyter.notebook.get_cells().map(function(cell){\n",
       "          if (cell.cell_type == 'code'){ cell.auto_highlight(); } }) ;\n",
       "  });\n",
       "});\n",
       "} catch (e) {};\n"
      ]
     },
     "metadata": {},
     "output_type": "display_data"
    },
    {
     "data": {
      "application/javascript": [
       "\n",
       "try {\n",
       "require(['notebook/js/codecell'], function(codecell) {\n",
       "  codecell.CodeCell.options_default.highlight_modes[\n",
       "      'magic_text/x-csrc'] = {'reg':[/^%%pybind11/]};\n",
       "  Jupyter.notebook.events.one('kernel_ready.Kernel', function(){\n",
       "      Jupyter.notebook.get_cells().map(function(cell){\n",
       "          if (cell.cell_type == 'code'){ cell.auto_highlight(); } }) ;\n",
       "  });\n",
       "});\n",
       "} catch (e) {};\n"
      ]
     },
     "metadata": {},
     "output_type": "display_data"
    }
   ],
   "source": [
    "m3 = M3Wrapper()"
   ]
  },
  {
   "cell_type": "code",
   "execution_count": 3,
   "id": "b8df9734",
   "metadata": {},
   "outputs": [
    {
     "name": "stdout",
     "output_type": "stream",
     "text": [
      "Words wrote are 292\n"
     ]
    }
   ],
   "source": [
    "m3.load_bin_to_m3(verbose=True)"
   ]
  },
  {
   "cell_type": "code",
   "execution_count": 4,
   "id": "89f0e1f3",
   "metadata": {},
   "outputs": [],
   "source": [
    "m3.run_for_seconds(20.0)"
   ]
  },
  {
   "cell_type": "code",
   "execution_count": 5,
   "id": "fd68cc84",
   "metadata": {},
   "outputs": [
    {
     "name": "stdout",
     "output_type": "stream",
     "text": [
      "addr:0x20100004, value: 0xdeadc0fe\n",
      "addr:0x20100008, value: 0x00000128\n",
      "addr:0x2010000c, value: 0x00000128\n",
      "addr:0x20100010, value: 0x20000008\n",
      "addr:0x20100014, value: 0x00000002\n",
      "addr:0x20100040, value: 0x00000120\n",
      "addr:0x20100044, value: 0x00000120\n",
      "addr:0x20100048, value: 0x10000020\n",
      "addr:0x2010004c, value: 0x00000008\n",
      "addr:0x2013fff4, value: 0x20100050\n",
      "addr:0x2013fff8, value: 0x000000a1\n"
     ]
    }
   ],
   "source": [
    "m3.dump_external_sram_non_zero() # see ResetISR in src/reset_handler.s"
   ]
  }
 ],
 "metadata": {
  "kernelspec": {
   "display_name": "Python 3 (ipykernel)",
   "language": "python",
   "name": "python3"
  },
  "language_info": {
   "codemirror_mode": {
    "name": "ipython",
    "version": 3
   },
   "file_extension": ".py",
   "mimetype": "text/x-python",
   "name": "python",
   "nbconvert_exporter": "python",
   "pygments_lexer": "ipython3",
   "version": "3.10.4"
  }
 },
 "nbformat": 4,
 "nbformat_minor": 5
}
